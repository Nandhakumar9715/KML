{
 "cells": [
  {
   "cell_type": "code",
   "execution_count": 3,
   "id": "558f0a06",
   "metadata": {},
   "outputs": [
    {
     "data": {
      "text/plain": [
       "['My_land0.kml', 'My_land1.kml']"
      ]
     },
     "execution_count": 3,
     "metadata": {},
     "output_type": "execute_result"
    }
   ],
   "source": [
    "import pandas as pd\n",
    "from xml.dom.minidom import Document\n",
    "\n",
    "def create_kml_from_csv(csv_path):\n",
    "    # Read the CSV data\n",
    "    data = pd.read_csv(csv_path)\n",
    "    # Initialize a list to hold file paths\n",
    "    kml_file_paths = []\n",
    "    \n",
    "    # Process each row in the DataFrame\n",
    "    for index, row in data.iterrows():\n",
    "        # Extract coordinates for each polygon\n",
    "        coords = [(row[f\"LAT{i}\"], row[f\"LON{i}\"]) for i in range(1, (len(row)//2) + 1)]\n",
    "        \n",
    "        # Create KML content\n",
    "        doc = Document()\n",
    "        kml = doc.createElement('kml')\n",
    "        kml.setAttribute('xmlns', 'http://www.opengis.net/kml/2.2')\n",
    "        doc.appendChild(kml)\n",
    "        document = doc.createElement('Document')\n",
    "        kml.appendChild(document)\n",
    "        placemark = doc.createElement('Placemark')\n",
    "        document.appendChild(placemark)\n",
    "        polygon = doc.createElement('Polygon')\n",
    "        placemark.appendChild(polygon)\n",
    "        outer_boundary_is = doc.createElement('outerBoundaryIs')\n",
    "        polygon.appendChild(outer_boundary_is)\n",
    "        linear_ring = doc.createElement('LinearRing')\n",
    "        outer_boundary_is.appendChild(linear_ring)\n",
    "        coordinates_str = ' '.join([f\"{lon},{lat},0\" for lat, lon in coords]) + f\" {coords[0][1]},{coords[0][0]},0\"  # Close the loop\n",
    "        coor = doc.createElement('coordinates')\n",
    "        coor.appendChild(doc.createTextNode(coordinates_str))\n",
    "        linear_ring.appendChild(coor)\n",
    "        \n",
    "        # Save the KML file\n",
    "        kml_content = doc.toprettyxml(indent=\"  \")\n",
    "        kml_file_path = f'My_land{index}.kml'\n",
    "        with open(kml_file_path, 'w') as file:\n",
    "            file.write(kml_content)\n",
    "        \n",
    "        # Store the path for each created KML file\n",
    "        kml_file_paths.append(kml_file_path)\n",
    "        \n",
    "    return kml_file_paths\n",
    "\n",
    "# Call the function with the path to the CSV file\n",
    "csv_file_path = '/Users/nandhakumar/Desktop/Test.csv'\n",
    "created_kml_files = create_kml_from_csv(csv_file_path)\n",
    "created_kml_files"
   ]
  },
  {
   "cell_type": "code",
   "execution_count": null,
   "id": "2e3a20e6",
   "metadata": {},
   "outputs": [],
   "source": []
  }
 ],
 "metadata": {
  "kernelspec": {
   "display_name": "Python 3 (ipykernel)",
   "language": "python",
   "name": "python3"
  },
  "language_info": {
   "codemirror_mode": {
    "name": "ipython",
    "version": 3
   },
   "file_extension": ".py",
   "mimetype": "text/x-python",
   "name": "python",
   "nbconvert_exporter": "python",
   "pygments_lexer": "ipython3",
   "version": "3.11.4"
  }
 },
 "nbformat": 4,
 "nbformat_minor": 5
}
